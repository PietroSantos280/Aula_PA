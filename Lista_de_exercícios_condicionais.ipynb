{
  "nbformat": 4,
  "nbformat_minor": 0,
  "metadata": {
    "colab": {
      "provenance": [],
      "authorship_tag": "ABX9TyP3zleiXbIzb6hIh9XliIfn",
      "include_colab_link": true
    },
    "kernelspec": {
      "name": "python3",
      "display_name": "Python 3"
    },
    "language_info": {
      "name": "python"
    }
  },
  "cells": [
    {
      "cell_type": "markdown",
      "metadata": {
        "id": "view-in-github",
        "colab_type": "text"
      },
      "source": [
        "<a href=\"https://colab.research.google.com/github/PietroSantos280/Aula_PA/blob/main/Lista_de_exerc%C3%ADcios_condicionais.ipynb\" target=\"_parent\"><img src=\"https://colab.research.google.com/assets/colab-badge.svg\" alt=\"Open In Colab\"/></a>"
      ]
    },
    {
      "cell_type": "markdown",
      "source": [
        "#Lista de Exercícios"
      ],
      "metadata": {
        "id": "j6CDdPGO_cc_"
      }
    },
    {
      "cell_type": "markdown",
      "source": [
        "##Exercíco 1\n",
        "Faça um programa que solicite ao usuário três valores (lados de um triangulo), verifique se é um triangulo e informe se ele é isóceles, equilatero ou escaleno."
      ],
      "metadata": {
        "id": "-JXIVhoj_d4G"
      }
    },
    {
      "cell_type": "code",
      "source": [
        "l1 = float(input(\"Digite o valor do lado do triângulo \"))\n",
        "l2 = float(input(\"Digite o valor do lado do triângulo \"))\n",
        "l3 = float(input(\"Digite o valor do lado do triângulo \"))\n",
        "\n",
        "if (l1+l2>l3) and (l1+l3>l2) and (l2+l3>l1):\n",
        "  if (l1==l2) and (l2==l3):\n",
        "    print(\"o seu triângulo é um triângulo é equilátero\")\n",
        "  elif (l1!=l2) and (l2!=l3) and (l1!=l3):\n",
        "    print (\"o seu triângulo é um triângulo é escaleno\")\n",
        "  elif (l1 == l2 or l1==l3 or l2==l3 ):\n",
        "    print(\"o seu triângulo é um triângulo é isósceles\")\n",
        "else:\n",
        "  print(\"seu números não são iguais a um triângulo\")"
      ],
      "metadata": {
        "colab": {
          "base_uri": "https://localhost:8080/"
        },
        "id": "S2rMe_9d_iTH",
        "outputId": "3164859d-5224-4c61-d7dd-c9dfccdbb507"
      },
      "execution_count": null,
      "outputs": [
        {
          "output_type": "stream",
          "name": "stdout",
          "text": [
            "Digite o valor do lado do triângulo 9\n",
            "Digite o valor do lado do triângulo 9\n",
            "Digite o valor do lado do triângulo 9\n",
            "o seu triângulo é um triângulo é equilátero\n"
          ]
        }
      ]
    },
    {
      "cell_type": "markdown",
      "source": [
        "##Exercício 2\n",
        "Peça para o usuário digitar um valor informe se ele é par ou impar"
      ],
      "metadata": {
        "id": "1OsltKBXBdW2"
      }
    },
    {
      "cell_type": "code",
      "source": [
        "valor = float(input(\"Digite um numero para ver se é par ou impar! \"))\n",
        "if (valor %2 !=0):\n",
        "  print(\"seu numero é um numero impar\")\n",
        "elif (valor%2 == 0):\n",
        "  print(\"seu nuemro é um numero par\")"
      ],
      "metadata": {
        "colab": {
          "base_uri": "https://localhost:8080/"
        },
        "id": "PVfIVYefBv93",
        "outputId": "2e8bb28f-81e1-4b20-816a-4f780fb5bba1"
      },
      "execution_count": null,
      "outputs": [
        {
          "output_type": "stream",
          "name": "stdout",
          "text": [
            "Digite um numero para ver se é par ou impar! 86.7\n",
            "seu numero é um numero impar\n"
          ]
        }
      ]
    },
    {
      "cell_type": "markdown",
      "source": [
        "##Exercício 3\n",
        "Faça um programa que solicite peso e altura, informe seu IMC. Ao final informe se ele está, abaixo do peso,peso ideal ou acima do peso. fórmula do IMC: (peso/altura^2)"
      ],
      "metadata": {
        "id": "Yx8fk3RLCbka"
      }
    },
    {
      "cell_type": "code",
      "source": [
        "alt = float( input (\" qual é sua altura em metros \"))\n",
        "peso = int( input (\" qual é seu peso \"))\n",
        "imc = peso/(alt**2)\n",
        "if (imc<18.5):\n",
        "  print(\"o seu peso está abaixo do normal\")\n",
        "elif (imc>18.5 and imc<24.9):\n",
        "  print(\"seu peso está normal\")\n",
        "elif (imc>25 and imc<29.9):\n",
        "  print(\"vc está sobrepeso\")\n",
        "elif (imc>30 and imc<34.9):\n",
        "  print(\"vc está no grau 1 da obesidade\")\n",
        "elif (imc>35 and imc<39.9):\n",
        "  print(\"vc está no grau 2 da obesidade\")\n",
        "elif (imc>40):\n",
        "  print(\"vc está no grau 3 da obesidade\")"
      ],
      "metadata": {
        "colab": {
          "base_uri": "https://localhost:8080/"
        },
        "id": "p7gqXxTFChoi",
        "outputId": "26f3035e-64b0-4162-d8fa-c48dad4f42a1"
      },
      "execution_count": null,
      "outputs": [
        {
          "output_type": "stream",
          "name": "stdout",
          "text": [
            " qual é sua altura em metros 1.72\n",
            " qual é seu peso 56\n",
            "seu peso está normal\n"
          ]
        }
      ]
    },
    {
      "cell_type": "markdown",
      "source": [
        "##Exercício 4\n",
        "Crie um programa que simule um caixa eletrônico."
      ],
      "metadata": {
        "id": "Ep2yVFC6EJ-X"
      }
    },
    {
      "cell_type": "code",
      "source": [
        "contacerta = \"cliente\"\n",
        "senhacerta = 1234"
      ],
      "metadata": {
        "id": "8n854WEbEnzp"
      },
      "execution_count": null,
      "outputs": []
    },
    {
      "cell_type": "code",
      "source": [
        "conta = input(\"digite seu nome da conta : \")\n",
        "senha = int(input(\"digite sua senha: \"))\n",
        "if conta == contacerta and senha == senhacerta:\n",
        "  print(\"usuario logado\")\n",
        "else:\n",
        "  print(\"usuario ou senha errado, tente novamente\")"
      ],
      "metadata": {
        "colab": {
          "base_uri": "https://localhost:8080/"
        },
        "id": "eDt5008yFA9h",
        "outputId": "513546c7-0869-44a9-d683-490ccf446064"
      },
      "execution_count": null,
      "outputs": [
        {
          "name": "stdout",
          "output_type": "stream",
          "text": [
            "digite seu nome da conta : cliente\n",
            "digite sua senha: 1234\n"
          ]
        }
      ]
    },
    {
      "cell_type": "markdown",
      "source": [
        "##Exercício 5\n",
        " o programa deve exibir as opções de escolha para o usuário de saque, depósito ou ver saldo, e o usuário poderá escolher qual operação deseja realizar.\n"
      ],
      "metadata": {
        "id": "qK_KdaitGMmV"
      }
    },
    {
      "cell_type": "code",
      "source": [
        "contacerta = \"cliente\"\n",
        "senhacerta = 1234\n",
        "limite = 3000\n",
        "saldo = -50.00"
      ],
      "metadata": {
        "id": "HrmZMt19GT6N"
      },
      "execution_count": null,
      "outputs": []
    },
    {
      "cell_type": "code",
      "source": [
        "conta = input(\"digite seu nome da conta : \")\n",
        "senha = int(input(\"digite sua senha: \"))\n",
        "if conta == contacerta and senha == senhacerta:\n",
        "  print(\"usuario logado\")\n",
        "  operação = input(\"qual á operação que você deseja fazer (saque, depósito, ver saldo): \")\n",
        "  if operação == \"saque\":\n",
        "    saque = (float(input(\"qual o valor que você deseja sacar: \")))\n",
        "    if saque <= (limite + saldo):\n",
        "      saldo = saldo - saque\n",
        "      limiterestante = limite - saldo\n",
        "      print(\"saque realizado\")\n",
        "      print(\"saldo restante para saque\", saldo, \"$ limite restante\", limiterestante, \"$\")\n",
        "    else:\n",
        "      print(\"saque negado\")\n",
        "  elif operação == \"depósito\":\n",
        "    deposito = (float(input(\"qual o valor que você deseja depositar na sua conta: \")))\n",
        "    if deposito <= (limite + saldo):\n",
        "      print(\"deposito realizado\")\n",
        "      saldo = deposito + saldo\n",
        "      print(\"seu saldo com esse deposito deu\", saldo)\n",
        "    elif deposito > (limite + saldo):\n",
        "      print(\"você não pode depositar essa quantidade\")\n",
        "  elif operação == \"ver saldo\":\n",
        "    print(\"seu saldo é de\", saldo, \"$\")\n",
        "else:\n",
        "  print(\"usuario ou senha errado,retire o cartão e tente novamente\")"
      ],
      "metadata": {
        "id": "55GzaRepGVe0"
      },
      "execution_count": null,
      "outputs": []
    },
    {
      "cell_type": "markdown",
      "source": [
        "##6. Faça um programa que solicite altura e idade do usuário, informe se ele pode ou nao competir.\n",
        "\n",
        "Regras: Para competir no campeonato de vôlei o usuário de ter pelo menos 1.75 de altura e 18 anos."
      ],
      "metadata": {
        "id": "FIfcmvhd755B"
      }
    },
    {
      "cell_type": "code",
      "source": [
        "alt = float( input (\" qual é sua altura em metros \"))\n",
        "idade = int( input (\" qual a sua idade \"))\n",
        "if idade == 18 and alt>=1.75:\n",
        "  print(\"você poderá competir normalmente\")\n",
        "else:\n",
        "  print(\"você não poderá participar pois você não tem a \")\n",
        "  if idade < 18:\n",
        "    print(\"idade necessária\")\n",
        "  elif alt <1.75:\n",
        "    print(\"altura necessária\")"
      ],
      "metadata": {
        "colab": {
          "base_uri": "https://localhost:8080/"
        },
        "id": "gSAloQi27_lx",
        "outputId": "7a20b628-c099-4e78-fbee-8f94ba17ef4c"
      },
      "execution_count": null,
      "outputs": [
        {
          "name": "stdout",
          "output_type": "stream",
          "text": [
            " qual é sua altura em metros 1.72\n",
            " qual a sua idade 15\n"
          ]
        }
      ]
    },
    {
      "cell_type": "markdown",
      "source": [
        "##7. Faça um programa que solicite o peso do lutador de Boxe. Informe em que categoria de boxe o usuário está, segundo os critérios abaixos:"
      ],
      "metadata": {
        "id": "w3J0sEbr-Btz"
      }
    },
    {
      "cell_type": "code",
      "source": [
        "peso = float(input(\"qual é seu peso: \"))\n",
        "if (peso >90.72):\n",
        "  print(\"sua classe é pesado\")\n",
        "elif (peso>79.38 and peso<=90.72):\n",
        "  print(\"sua classe é cruzador\")\n",
        "elif (peso>76.2 and peso<=79.38):\n",
        "  print(\"sua classe é meio pesado\")\n",
        "elif (peso>73.03 and peso<=76.2):\n",
        "  print(\"sua classe é super médio\")\n",
        "elif (peso>69.85 and peso<=73.03):\n",
        "  print(\"sua classe é médio\")\n",
        "elif (peso>66.68 and peso<=69.85):\n",
        "  print(\"sua classe é super meio médio\")\n",
        "elif (peso>63.5 and peso<=66.68):\n",
        "  print(\"sua classe é meio médio\")\n",
        "elif (peso>61.23 and peso<=63.5):\n",
        "  print(\"sua classe é super leve\")\n",
        "elif (peso>58.97 and peso<=61.23):\n",
        "  print(\"sua classe é Leve\")\n",
        "elif (peso>57.15 and peso<=58.97):\n",
        "  print(\"sua classe é Super Pena\")\n",
        "elif (peso>55.34 and peso<=57.15):\n",
        "  print(\"sua classe é pena\")\n",
        "elif (peso>53.52 and peso<=55.34):\n",
        "  print(\"sua classe é Super Galo\")\n",
        "elif (peso>51.71 and peso<=53.52):\n",
        "  print(\"sua classe é Galo\")\n",
        "elif (peso>50.35 and peso<=51.71):\n",
        "  print(\"sua classe é Super Mosca\")\n",
        "elif (peso>48.99 and peso<=50.35):\n",
        "  print(\"sua classe é Mosca\")\n",
        "elif (peso>47.63 and peso<=48.99):\n",
        "  print(\"sua classe é Mosca Ligeiro\")\n",
        "elif (peso>46.27 and peso<=47.63):\n",
        "  print(\"sua classe é palha\")\n",
        "elif (peso<=46.27):\n",
        "  print(\"sua classe é Palha Ligeiro\")"
      ],
      "metadata": {
        "colab": {
          "base_uri": "https://localhost:8080/"
        },
        "id": "Pp7i2R8L-FyD",
        "outputId": "d0fed15f-ceed-431e-df13-bea0575b7375"
      },
      "execution_count": null,
      "outputs": [
        {
          "output_type": "stream",
          "name": "stdout",
          "text": [
            "qual é seu peso: 60\n",
            "sua classe é Leve\n"
          ]
        }
      ]
    },
    {
      "cell_type": "markdown",
      "source": [
        "##8.Faça um programa que solicite\n",
        "\n",
        "O salário do usuário;\n",
        "\n",
        "Informe quanto esse usuário irá pagar de imposto de Renda seguindo a tabela abaixo:"
      ],
      "metadata": {
        "id": "nxHMKOxqEkU3"
      }
    },
    {
      "cell_type": "code",
      "source": [
        "salario = float(input(\"qual é a quantia de dinheiro que vc ganha: \"))\n",
        "if salario <= 1903.98:\n",
        "  print(\"você está isento do imposto\")\n",
        "elif (salario >= 1903.99 and salario <= 2826.65):\n",
        "  imposto = (0.075 * salario)\n",
        "  print(f\"você pagará 7,5% ou seja {imposto} do seu salário para o imposto \")\n",
        "elif salario >= 2826.66 and salario <= 3751.05:\n",
        "  imposto = (0.15 * salario)\n",
        "  print(f\"você pagará 15% ou seja {imposto}do seu salário para o imposto\")\n",
        "elif salario >= 3751.06 and salario <= 4664.68:\n",
        "  imposto = (0.225 * salario)\n",
        "  print(f\"você pagará 22,5% ou seja {imposto}do seu salário para o imposto\")\n",
        "elif salario > 4664.68:\n",
        "  imposto = (0.275 * salario)\n",
        "  print(f\"você pagará 27,5% ou seja {imposto} do seu salário para o imposto\")"
      ],
      "metadata": {
        "colab": {
          "base_uri": "https://localhost:8080/"
        },
        "id": "vK0zp4YdEs-4",
        "outputId": "b9b77b5d-8ae9-4fe3-c916-b9721cc44b12"
      },
      "execution_count": null,
      "outputs": [
        {
          "output_type": "stream",
          "name": "stdout",
          "text": [
            "qual é a quantia de dinheiro que vc ganha: 2000\n",
            "você pagará 7,5% ou seja 150.0 do seu salário para o imposto \n"
          ]
        }
      ]
    },
    {
      "cell_type": "markdown",
      "source": [
        "##9.Uma empresa dará aumento para seus funcionários, faça um programa que faça esses cálculos, solicite o salário do funcionário e informe o aumento que o mesmo terá, seguindo os seguintes critérios:"
      ],
      "metadata": {
        "id": "YzttHVwzM1_j"
      }
    },
    {
      "cell_type": "code",
      "source": [
        "salario = float(input(\"qual é a quantia de dinheiro que vc ganha: \"))\n",
        "if salario <= 1500:\n",
        "  bonus = (salario * 20/100) + salario\n",
        "  print(\"você ganhará um bonus de 20% e seu salário novo seria de \", bonus)\n",
        "elif (salario > 1500 and salario <= 3000):\n",
        "  bonus = (salario * 15/100) + salario\n",
        "  print(\"você ganhará um bonus de 15% e seu salário novo seria de \", bonus)\n",
        "elif salario > 3000:\n",
        "  bonus = (salario * 10/100) + salario\n",
        "  print(\"você ganhará um bonus de 10% e seu salário novo seria de \", bonus)"
      ],
      "metadata": {
        "colab": {
          "base_uri": "https://localhost:8080/"
        },
        "id": "IqjoSuLMM4oU",
        "outputId": "9e11587c-7477-4c28-863a-bbf7e3bf00cc"
      },
      "execution_count": null,
      "outputs": [
        {
          "output_type": "stream",
          "name": "stdout",
          "text": [
            "qual é a quantia de dinheiro que vc ganha: 4578.23\n",
            "você ganhará um bonus de 10% e seu salário novo seria de  5036.053\n"
          ]
        }
      ]
    },
    {
      "cell_type": "markdown",
      "source": [
        "##10.Simulador de frete inteligente\n",
        "\n",
        "Peça o peso do pacote (em kg) e a distância (em km) de sua cidade até o local de entrega.Calcule o frete com base em regras:\n",
        "\n",
        "Até 2kg → R$5 por 100km\n",
        "\n",
        "De 2kg a 5kg → R$8 por 100km\n",
        "\n",
        "Acima de 5kg → R$10 por 100km"
      ],
      "metadata": {
        "id": "GJ6mZ0kP17sz"
      }
    },
    {
      "cell_type": "code",
      "source": [
        "distancia = float(input(\"digite a distância em km: \"))\n",
        "peso = float(input(\"digite o peso da compra em kg:\"))\n",
        "if peso <= 2:\n",
        "    preco = 5\n",
        "    frete = (distancia / 100) * preco\n",
        "    print(\"o frete destá compra ficará em: \", frete, \"$\")\n",
        "elif peso <= 5:\n",
        "    preco = 8\n",
        "    frete = (distancia / 100) * preco\n",
        "    print(\"o frete destá compra ficará em: \", frete, \"$\")\n",
        "else:\n",
        "    preco = 10\n",
        "    frete = (distancia / 100) * preco\n",
        "    print(\"o frete destá compra ficará em: \", frete, \"$\")"
      ],
      "metadata": {
        "colab": {
          "base_uri": "https://localhost:8080/"
        },
        "id": "Q4nxZshL1_lT",
        "outputId": "87dbe4f8-ce1c-423a-8b2a-0a57d813800b"
      },
      "execution_count": null,
      "outputs": [
        {
          "name": "stdout",
          "output_type": "stream",
          "text": [
            "digite a distância em km: 350\n",
            "digite o peso da compra em kg:3\n"
          ]
        }
      ]
    }
  ]
}