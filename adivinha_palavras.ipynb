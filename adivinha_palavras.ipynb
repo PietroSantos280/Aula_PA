{
  "nbformat": 4,
  "nbformat_minor": 0,
  "metadata": {
    "colab": {
      "provenance": [],
      "authorship_tag": "ABX9TyMa3HtqSevsP8w/t/L5U1UH",
      "include_colab_link": true
    },
    "kernelspec": {
      "name": "python3",
      "display_name": "Python 3"
    },
    "language_info": {
      "name": "python"
    }
  },
  "cells": [
    {
      "cell_type": "markdown",
      "metadata": {
        "id": "view-in-github",
        "colab_type": "text"
      },
      "source": [
        "<a href=\"https://colab.research.google.com/github/PietroSantos280/Aula_PA/blob/main/adivinha_palavras.ipynb\" target=\"_parent\"><img src=\"https://colab.research.google.com/assets/colab-badge.svg\" alt=\"Open In Colab\"/></a>"
      ]
    },
    {
      "cell_type": "markdown",
      "source": [
        "##Fazer um jogo de adivinhar palavras:\n",
        "\n",
        "* O jogador terá 06 tentativas para advinhar\n",
        "* Fazer uma lista com palavras de 05 letras\n",
        "* o chute para adivinhar obrigatoriamente terá 5 letras"
      ],
      "metadata": {
        "id": "aRQgHZE-zSqv"
      }
    },
    {
      "cell_type": "code",
      "execution_count": 10,
      "metadata": {
        "colab": {
          "base_uri": "https://localhost:8080/"
        },
        "id": "LWawzMkfzGzf",
        "outputId": "baec66f5-be21-4ae6-8cd0-e5728130371f"
      },
      "outputs": [
        {
          "output_type": "stream",
          "name": "stdout",
          "text": [
            "digite uma palavra com 5 letras ou digite 'sair' para sair carro\n",
            "vc errou tente outra palavra\n",
            "digite uma palavra com 5 letras ou digite 'sair' para sair grama\n",
            "vc errou tente outra palavra\n",
            "digite uma palavra com 5 letras ou digite 'sair' para sair gerar\n",
            "vc errou tente outra palavra\n",
            "digite uma palavra com 5 letras ou digite 'sair' para sair verde\n",
            "parabens vc acaba de ganhar\n"
          ]
        }
      ],
      "source": [
        "palavras = [\"verde\",\"santo\",\"termo\",\"prego\",\"êxito\",\"mexer\",\"pobre\",\"censo\",\"afeto\",\"ética\",\"rosas\",\"plena\",\"fazer\",\"assim\",\"maçãs\",\"muito\",\"sobre\",\"manga\",\"seção\",\"poder\"]\n",
        "while range(6):\n",
        "  tentativa = input(\"digite uma palavra com 5 letras ou digite 'sair' para sair \")\n",
        "  if tentativa == \"sair\":\n",
        "    print(\"vc saiu do jogo\")\n",
        "    break\n",
        "  elif len(tentativa)<5 or len(tentativa)>5:\n",
        "    print(\"a sua palavra deve ter 5 letras no maximo, tente novamente\")\n",
        "    break\n",
        "  else:\n",
        "    if tentativa in palavras:\n",
        "      print(\"parabens vc acaba de ganhar\")\n",
        "      break\n",
        "    else:\n",
        "      print(\"vc errou tente outra palavra\")"
      ]
    }
  ]
}