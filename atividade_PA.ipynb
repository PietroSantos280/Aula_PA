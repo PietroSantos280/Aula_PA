{
  "nbformat": 4,
  "nbformat_minor": 0,
  "metadata": {
    "colab": {
      "provenance": [],
      "authorship_tag": "ABX9TyP+YW87LNXlzcZF4tU4ow77",
      "include_colab_link": true
    },
    "kernelspec": {
      "name": "python3",
      "display_name": "Python 3"
    },
    "language_info": {
      "name": "python"
    }
  },
  "cells": [
    {
      "cell_type": "markdown",
      "metadata": {
        "id": "view-in-github",
        "colab_type": "text"
      },
      "source": [
        "<a href=\"https://colab.research.google.com/github/PietroSantos280/Aula_PA/blob/main/atividade_PA.ipynb\" target=\"_parent\"><img src=\"https://colab.research.google.com/assets/colab-badge.svg\" alt=\"Open In Colab\"/></a>"
      ]
    },
    {
      "cell_type": "markdown",
      "source": [
        "#1)\tDetector de Fases da Lua (Situação hipotética)\n",
        "Faça um programa que pergunte o dia do mês (1 a 31) Não aceite valores fora desse intervalo.\n",
        "\n",
        "Baseado no dia, informe a provável fase da lua:\n",
        "\n",
        "•  Dia 1 a 7: Lua Nova\n",
        "\n",
        "•  Dia 8 a 14: Quarto Crescente\n",
        "\n",
        "•  Dia 15 a 21: Lua Cheia\n",
        "\n",
        "•  Dia 22 a 29: Quarto Minguante\n",
        "\n",
        "•  Dia 30 ou mais: Início de novo ciclo lunar"
      ],
      "metadata": {
        "id": "6RzbLBm3D3LT"
      }
    },
    {
      "cell_type": "code",
      "execution_count": 10,
      "metadata": {
        "colab": {
          "base_uri": "https://localhost:8080/"
        },
        "id": "pmF6YG7iDhHT",
        "outputId": "909f66c6-2fb7-4ffd-8d41-1e8ee874ab8b"
      },
      "outputs": [
        {
          "output_type": "stream",
          "name": "stdout",
          "text": [
            "digite o dia do mês: 26\n",
            "Quarto Minguante\n"
          ]
        }
      ],
      "source": [
        "dia = int(input(\"digite o dia do mês: \"))\n",
        "if (dia>=1 and dia<=31):\n",
        "  if (dia>=1 and dia<=7):\n",
        "    print(\"Lua Nova\")\n",
        "  elif (dia>=8 and dia<=14):\n",
        "    print(\"Quarto Crescente\")\n",
        "  elif (dia>=15 and dia<=21):\n",
        "    print(\"Lua Cheia\")\n",
        "  elif(dia>=22 and dia<=29):\n",
        "    print(\"Quarto Minguante\")\n",
        "  else:\n",
        "    print(\"Início de novo ciclo lunar\")\n",
        "else:\n",
        "  print(\"não entrou\")"
      ]
    },
    {
      "cell_type": "markdown",
      "source": [
        "#2)\tCrie um programa que simule a entrada de um jogador em uma batalha de RPG. O usuário deverá informar:\n",
        "\n",
        "•\tSua classe: \"mago\", \"guerreiro\" ou \"arqueiro\" (deve dar erro se as entradas forem diferentes dessas.\n",
        "\n",
        "•\tSua energia (valor de 0 a 100)\n",
        "\n",
        "Regras de entrada:\n",
        "\n",
        "•\tMagos: precisam ter energia > 60\n",
        "\n",
        "•\tGuerreiros: energia > 40\n",
        "\n",
        "•\tArqueiros: energia > 50\n",
        "\n",
        "Se puder entrar na batalha, o programa deve calcular um dano base diferente para cada classe:\n",
        "\n",
        "•\tMago: dano = energia × 1.5\n",
        "\n",
        "•\tGuerreiro: dano = energia × 2\n",
        "\n",
        "•\tArqueiro: dano = energia × 1.2\n",
        "\n",
        "O programa deve exibir:\n",
        "\n",
        "•\tSe o jogador pode ou não entrar\n",
        "\n",
        "•\tE, se puder, mostrar seu dano base calculado\n",
        "\n",
        "Exemplo da saída:\n",
        "\n",
        "Classe: guerreiro\n",
        "\n",
        "Energia: 55\n",
        "\n",
        "Você pode entrar na batalha!\n",
        "\n",
        "Dano base: 110.0\n"
      ],
      "metadata": {
        "id": "kZH0QsPDFBpP"
      }
    },
    {
      "cell_type": "code",
      "source": [
        "energia = int(input(\"digite sua energia: \"))\n",
        "if (energia>=0 and energia<=100):\n",
        "  print(\"entrou no jogo\")\n",
        "  classe = int(input(\"digite sua clase: \\ndigite 1 para ser mago \\ndigite 2 para ser guerreiro \\ndigite 3 para ser arqueiro \"))\n",
        "  if (classe == 1):\n",
        "    print(\"classe selecionada: mago\")\n",
        "    energia = energia*1.5\n",
        "    if (energia>60):\n",
        "      print(\"entrou na batalha com uma energia de: \",energia)\n",
        "    else:\n",
        "      print(\"energia insuficiente para entrar na batalha\")\n",
        "  elif (classe == 2):\n",
        "    print(\"classe selecionada: guerreiro\")\n",
        "    energia = energia*2\n",
        "    if (energia>40):\n",
        "      print(\"entrou na batalha com uma energia de: \",energia)\n",
        "    else:\n",
        "      print(\"energia insuficiente para entrar na batalha\")\n",
        "  elif (classe == 3):\n",
        "    print(\"classe selecionada: arqueiro\")\n",
        "    energia = energia*1.2\n",
        "    if (energia>50):\n",
        "      print(\"entrou na batalha com uma energia de: \",energia)\n",
        "    else:\n",
        "      print(\"energia insuficiente para entrar na batalha\")\n",
        "  else:\n",
        "    print(\"classe não achada tente novamente\")\n",
        "else:\n",
        "  print(\"nivel de energia não entrou no jogo\")"
      ],
      "metadata": {
        "colab": {
          "base_uri": "https://localhost:8080/"
        },
        "id": "HIAwS4bNFMde",
        "outputId": "8713ac3f-a406-46a4-dc67-021d51b93c8c"
      },
      "execution_count": 28,
      "outputs": [
        {
          "output_type": "stream",
          "name": "stdout",
          "text": [
            "digite sua energia: 75\n",
            "entrou no jogo\n",
            "digite sua clase: \n",
            "digite 1 para ser mago \n",
            "digite 2 para ser guerreiro \n",
            "digite 3 para ser arqueiro 2\n",
            "classe selecionada: guerreiro\n",
            "entrou na batalhacom uma energia de:  150\n"
          ]
        }
      ]
    },
    {
      "cell_type": "markdown",
      "source": [
        "#Descrição do Algoritmo:\n",
        "1. Início\n",
        "•\tSolicita-se a renda familiar mensal (em reais).\n",
        "2. Validação da Renda\n",
        "•\tSe a renda familiar for menor que 0, exibir:\n",
        "➤ \"Renda inválida\"\n",
        "•\tSe a renda familiar for maior que R$ 5.000, exibir:\n",
        "➤ \"Não participa da bolsa. Só participam candidatos com renda menor ou igual a R$ 5.000.\"\n",
        "3. Tipo de Escola\n",
        "•\tSolicitar o tipo de escola do candidato: \"pública\" ou \"particular\".\n",
        "•\tSe for outro valor, exibir:\n",
        "➤ \"Tipo de escola inválido\"\n",
        "➤ Encerrar o programa.\n",
        "4. Notas Anuais\n",
        "•\tSolicitar as três últimas notas anuais nas disciplinas:\n",
        "o\tMatemática\n",
        "o\tPortuguês\n",
        "o\tConhecimentos Gerais\n",
        "•\tPara cada nota, validar se está entre 1 e 10:\n",
        "o\tSe alguma estiver fora desse intervalo, exibir erro específico:\n",
        "➤ \"Nota inválida. Reinicie o preenchimento.\"\n",
        "➤ Encerrar o programa.\n",
        "•\tCalcular a média simples das três notas.\n",
        "Observação: Essa média poderá ser superior a 10 após os bônus.\n"
      ],
      "metadata": {
        "id": "xo3MbucxM2aU"
      }
    },
    {
      "cell_type": "code",
      "source": [
        "renda = float(input(\"digite a renda mensal: \"))\n",
        "if (renda<0):\n",
        "  print(\"renda inválida.\")\n",
        "elif (renda>5000):\n",
        "  print(\"Não participa da bolsa. Só participam candidatos com renda menor ou igual a R$ 5.000.\")\n",
        "else:\n",
        "  print(\"renda valida para o processo seletivo.\")\n",
        "  escola = int(input(\"digite o tipo da sua escola opções 1 para pública ou 2 para particular: \"))\n",
        "  if (escola == 1 or escola == 2):\n",
        "    notamate = float(input(\"digite sua última media anual de matemática: \"))\n",
        "    if (notamate >=1 and notamate<=10):\n",
        "      notaport = float(input(\"digite sua última media anual de Português: \"))\n",
        "      if (notaport >=1 and notaport<=10):\n",
        "        notacg = float(input(\"digite sua última media anual de Conhecimentos Gerais: \"))\n",
        "        if (notacg >=1 and notacg<=10):\n",
        "          media = ((notacg + notamate + notaport)/3)\n",
        "          if (escola == 1):\n",
        "            if (media>= 8):\n",
        "              media = (20/media) + media\n",
        "              if (renda < 3000):\n",
        "                media = (15/media) + media\n",
        "                print(\"sua media atual com bonus 1 é de \", media)\n",
        "            elif (media>= 6 and media <8):\n",
        "              media = (10/media) + media\n",
        "              if (renda < 3000):\n",
        "                media = (5/media) + media\n",
        "                print(\"sua media atual com bonus 2 é de \", media)\n",
        "            elif (media <6):\n",
        "              print(\"Não concorre à bolsa por nota baixa.\")\n",
        "          elif(escola == 2):\n",
        "            if (media>= 8):\n",
        "              media = (5/media) + media\n",
        "              if (renda < 3000):\n",
        "                media = (15/media) + media\n",
        "                print(\"sua media atual com bonus 1 é de \", media)\n",
        "            elif (media>= 6 and media <8):\n",
        "              media = (2.5/media) + media\n",
        "              if (renda < 3000):\n",
        "                media = (2/media) + media\n",
        "                print(\"sua media atual com bonus 2 é de \", media)\n",
        "            elif (media <6):\n",
        "              print(\"Não concorre à bolsa por nota baixa.\")\n",
        "    else:\n",
        "      print(\"Nota inválida. Reinicie o preenchimento.\")\n",
        "  else:\n",
        "    print(\"Tipo de escola inválido.\")"
      ],
      "metadata": {
        "colab": {
          "base_uri": "https://localhost:8080/"
        },
        "id": "HcVizM0yNTqx",
        "outputId": "03b38d74-19fe-440d-8edc-933a64e37c7a"
      },
      "execution_count": 75,
      "outputs": [
        {
          "output_type": "stream",
          "name": "stdout",
          "text": [
            "digite a renda mensal: 2000\n",
            "renda valida para o processo seletivo.\n",
            "digite o tipo da sua escola opções 1 para pública ou 2 para particular: 1\n",
            "digite sua última media anual de matemática: 10\n",
            "digite sua última media anual de Português: 9\n",
            "digite sua última media anual de Conhecimentos Gerais: 7.5\n",
            "sua media atual com bonus 1 é de  12.449141970127123\n"
          ]
        }
      ]
    }
  ]
}