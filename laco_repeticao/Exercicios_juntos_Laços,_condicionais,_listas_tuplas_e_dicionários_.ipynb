{
  "nbformat": 4,
  "nbformat_minor": 0,
  "metadata": {
    "colab": {
      "provenance": [],
      "include_colab_link": true
    },
    "kernelspec": {
      "name": "python3",
      "display_name": "Python 3"
    },
    "language_info": {
      "name": "python"
    }
  },
  "cells": [
    {
      "cell_type": "markdown",
      "metadata": {
        "id": "view-in-github",
        "colab_type": "text"
      },
      "source": [
        "<a href=\"https://colab.research.google.com/github/PietroSantos280/Aula_PA/blob/main/laco_repeticao/Exercicios_juntos_La%C3%A7os%2C_condicionais%2C_listas_tuplas_e_dicion%C3%A1rios_.ipynb\" target=\"_parent\"><img src=\"https://colab.research.google.com/assets/colab-badge.svg\" alt=\"Open In Colab\"/></a>"
      ]
    },
    {
      "cell_type": "markdown",
      "source": [
        "Lista de Exercícios unindo tudo que foi ensinado até o momento:\n",
        "\n",
        "\n",
        "*   Condicionais\n",
        "*   Laços de Reptição\n",
        "*   Listas\n",
        "*   Tuplas\n",
        "*   Dicionários\n",
        "*   Manipulação de Strings\n",
        "\n",
        "\n",
        "\n",
        "\n",
        "\n"
      ],
      "metadata": {
        "id": "JsFcwNObBRcd"
      }
    },
    {
      "cell_type": "markdown",
      "source": [
        "# Tuplas - Acesso e Desempacotamento\n",
        "\n",
        "1) Crie uma tupla contendo três tipos diferentes de dados: um número, uma string e uma lista. Use um laço de repetição para acessar e imprimir cada item da tupla. Além disso, dentro do laço, acesse e imprima o segundo item da lista que está dentro da tupla."
      ],
      "metadata": {
        "id": "HM91bKpkBqGI"
      }
    },
    {
      "cell_type": "code",
      "source": [
        "dados = (24, \"Cíntia\",[1,2,3])\n",
        "\n",
        "for i in dados:\n",
        "  print(i)"
      ],
      "metadata": {
        "colab": {
          "base_uri": "https://localhost:8080/"
        },
        "id": "sCbCOqPVYeRv",
        "outputId": "1562f547-2765-4a1e-dc63-72c47c44eca5"
      },
      "execution_count": null,
      "outputs": [
        {
          "output_type": "stream",
          "name": "stdout",
          "text": [
            "24\n",
            "Cíntia\n",
            "[1, 2, 3]\n"
          ]
        }
      ]
    },
    {
      "cell_type": "code",
      "source": [],
      "metadata": {
        "colab": {
          "base_uri": "https://localhost:8080/"
        },
        "id": "pZ8TJ7EFYsjg",
        "outputId": "421ac61c-a610-4c30-e322-382b944de8df"
      },
      "execution_count": null,
      "outputs": [
        {
          "output_type": "execute_result",
          "data": {
            "text/plain": [
              "tuple"
            ]
          },
          "metadata": {},
          "execution_count": 2
        }
      ]
    },
    {
      "cell_type": "markdown",
      "source": [
        "# Dicionários - Criação e Acesso\n",
        "## Cadastro de Pessoas e Análise de Alturas\n",
        "2) Solicite ao usuário para inserir o nome e a altura de várias pessoas. Preencha um dicionário com essas informações e depois encontre e imprima o nome e a altura da pessoa mais alta e da mais baixa."
      ],
      "metadata": {
        "id": "6vEHxGtjBxMi"
      }
    },
    {
      "cell_type": "code",
      "source": [
        "pessoas = {}\n",
        "\n",
        "while True:\n",
        "  nome = input(\"digite o nome da pessoa ou digite sair: \").lower()\n",
        "  if nome == \"sair\":\n",
        "    break\n",
        "  altura = float(input(f\"digite a altura de {nome} em metros: \"))\n",
        "  pessoas[nome] = altura\n",
        "  altmenor = {pessoas[pessoabaixa]}\n",
        "  altmaior = {pessoas[pessoaalt]}\n",
        "  pessoaalt = max(pessoas, key=pessoas.get)\n",
        "  pessoabaixa = min(pessoas, key=pessoas.get)\n",
        "print(f\"está é a pessoa mais alta {pessoaalt} com a altura de {altmaior}\")\n",
        "print(f\"está é a pessoa mais baixa {pessoabaixa} com a altura de {altmenor}\")"
      ],
      "metadata": {
        "id": "MpJYauvTZR69",
        "colab": {
          "base_uri": "https://localhost:8080/"
        },
        "outputId": "7e033f40-3771-4b29-c3fd-443aabe596c5"
      },
      "execution_count": 37,
      "outputs": [
        {
          "output_type": "stream",
          "name": "stdout",
          "text": [
            "digite o nome da pessoa ou digite sair: pietro\n",
            "digite a altura de pietro em metros: 1.73\n",
            "digite o nome da pessoa ou digite sair: arutr\n",
            "digite a altura de arutr em metros: 1.72\n",
            "digite o nome da pessoa ou digite sair: otavio\n",
            "digite a altura de otavio em metros: 1.65\n",
            "digite o nome da pessoa ou digite sair: sair\n",
            "está é a pessoa mais alta pietro com a altura de {1.73}\n",
            "está é a pessoa mais baixa otavio com a altura de {1.72}\n"
          ]
        }
      ]
    },
    {
      "cell_type": "markdown",
      "source": [
        "# Lista, laços e Condicionais\n",
        "3) Descrição: Crie uma listacom cinco números inteiros. Use um laço de repetição e uma condicional para imprimir apenas os números que são múltiplos de 3."
      ],
      "metadata": {
        "id": "FytD4QZyELAt"
      }
    },
    {
      "cell_type": "code",
      "source": [
        "for i in range(5):\n",
        "  if i % 3 == 0:\n",
        "    print(i, \"É um numero é multiplo de 3\")"
      ],
      "metadata": {
        "colab": {
          "base_uri": "https://localhost:8080/"
        },
        "id": "o4Z6GM9jtdbR",
        "outputId": "b60b61d5-e348-48a3-d2ba-caa538ee9af3"
      },
      "execution_count": 50,
      "outputs": [
        {
          "output_type": "stream",
          "name": "stdout",
          "text": [
            "0 É um numero é multiplo de 3\n",
            "3 É um numero é multiplo de 3\n"
          ]
        }
      ]
    },
    {
      "cell_type": "markdown",
      "source": [
        "# Manipulação de Strings e Condicionais\n",
        "4) Descrição: Crie uma string com uma frase. Use uma condicional para verificar se a frase contém a palavra \"Python\". Se sim, substitua a palavra \"Python\" por \"programação\" e imprima a nova frase."
      ],
      "metadata": {
        "id": "hwn3Fz8aEYSH"
      }
    },
    {
      "cell_type": "code",
      "source": [
        "frase= input(\"digite uma frase relacionada a programação: \").lower()\n",
        "if \"python\" in frase:\n",
        "  frase = frase.replace(\"python\", \"programação\")\n",
        "  print(f\"sua frase corrigida: {frase}\")\n",
        "else:\n",
        "  print(frase)"
      ],
      "metadata": {
        "colab": {
          "base_uri": "https://localhost:8080/"
        },
        "id": "NvdMu0UoyE-E",
        "outputId": "504ce55d-44d5-4239-fc02-43cfef4fdebd"
      },
      "execution_count": 56,
      "outputs": [
        {
          "output_type": "stream",
          "name": "stdout",
          "text": [
            "digite uma frase relacionada a programação: eu estudo python\n",
            "sua frase foi: eu estudo programação\n"
          ]
        }
      ]
    },
    {
      "cell_type": "markdown",
      "source": [
        "# Simulação de Alfândega com Cadastro Dinâmico de Itens usando dicionário\n",
        "5) Simule uma situação de alfândega onde o funcionário cadastra itens novos encontrados na mala de uma pessoa que veio de uma viagem internacional. Após o cadastro de todos os itens, o programa imprime uma nota com todos os itens e seus preços, calcula o valor total e, se o valor total ultrapassar 500 dólares, calcula o valor de 60% a ser pago."
      ],
      "metadata": {
        "id": "hPP-JNTxEwFT"
      }
    },
    {
      "cell_type": "code",
      "source": [
        "itens = {}\n",
        "\n",
        "while True:\n",
        "  produtos = input(\"digite o nome do produto ou digite sair: \").lower()\n",
        "  if produtos == \"sair\":\n",
        "    break\n",
        "  preço = float(input(\"digite o valor do produto: \"))\n",
        "  itens[produtos] = preço\n",
        "print(itens)\n",
        "total = sum(itens.values())\n",
        "print(f\"o valor total dos produtos foi de {total}\")\n",
        "if total > 500:\n",
        "  total = (total*0.6)+total\n",
        "print(total)"
      ],
      "metadata": {
        "colab": {
          "base_uri": "https://localhost:8080/"
        },
        "id": "-VAC1dvX0IMV",
        "outputId": "6e0f9c57-56a1-4ec4-e27d-17211cc05636"
      },
      "execution_count": 64,
      "outputs": [
        {
          "output_type": "stream",
          "name": "stdout",
          "text": [
            "digite o nome do produto ou digite sair: caderno\n",
            "digite o valor do produto: 300\n",
            "digite o nome do produto ou digite sair: bolsa\n",
            "digite o valor do produto: 100\n",
            "digite o nome do produto ou digite sair: computador\n",
            "digite o valor do produto: 1000\n",
            "digite o nome do produto ou digite sair: sair\n",
            "{'caderno': 300.0, 'bolsa': 100.0, 'computador': 1000.0}\n",
            "o valor total dos produtos foi de 1400.0\n",
            "2240.0\n"
          ]
        }
      ]
    },
    {
      "cell_type": "markdown",
      "source": [
        "# Identificação de Palavras Negativas em um Texto\n",
        "6) Você vai criar um programa em Python para analisar um texto e identificar palavras que expressam pensamentos negativos. Para isso, você usará uma lista de palavras negativas fornecida e verificará quais dessas palavras estão presentes no texto fornecido pelo usuário. Exemplo de palavras negtivas, acrescente mais na lista: # Lista de palavras negativas palavras_negativas = ['triste', 'deprimido', 'ansioso', 'desapontado', 'frustrado']"
      ],
      "metadata": {
        "id": "OH8D047zVsp-"
      }
    },
    {
      "cell_type": "code",
      "source": [
        "palavras_negativas = ['triste', 'deprimido', 'ansioso', 'desapontado', 'frustrado']\n",
        "frase = input(\"digite a sua frase: \").lower()\n",
        "tem_palavra_negativa = False\n",
        "\n",
        "for palavra in palavras_negativas:\n",
        "    if palavra in frase:\n",
        "        tem_palavra_negativa = True\n",
        "        break\n",
        "\n",
        "if tem_palavra_negativa:\n",
        "  print(\"na sua frase a palavras negativas como\", palavras_negativas)\n",
        "else:\n",
        "  print(\"a sua frase não a nenhuma palavra negativa\")"
      ],
      "metadata": {
        "id": "xDSrYWf_Vr8G",
        "colab": {
          "base_uri": "https://localhost:8080/"
        },
        "outputId": "216a3022-072b-4a0b-eba0-7e338854e52a"
      },
      "execution_count": 70,
      "outputs": [
        {
          "output_type": "stream",
          "name": "stdout",
          "text": [
            "digite a sua frase: estou deprimido\n",
            "na sua frase a palavras negativas como ['triste', 'deprimido', 'ansioso', 'desapontado', 'frustrado']\n"
          ]
        }
      ]
    }
  ]
}