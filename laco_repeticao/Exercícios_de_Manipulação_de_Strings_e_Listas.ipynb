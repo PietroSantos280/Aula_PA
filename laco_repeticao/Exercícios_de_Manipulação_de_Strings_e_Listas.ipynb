{
  "nbformat": 4,
  "nbformat_minor": 0,
  "metadata": {
    "colab": {
      "provenance": [],
      "authorship_tag": "ABX9TyNy7q2Pqcuyi3QeIYBDIpwa",
      "include_colab_link": true
    },
    "kernelspec": {
      "name": "python3",
      "display_name": "Python 3"
    },
    "language_info": {
      "name": "python"
    }
  },
  "cells": [
    {
      "cell_type": "markdown",
      "metadata": {
        "id": "view-in-github",
        "colab_type": "text"
      },
      "source": [
        "<a href=\"https://colab.research.google.com/github/PietroSantos280/Aula_PA/blob/main/laco_repeticao/Exerc%C3%ADcios_de_Manipula%C3%A7%C3%A3o_de_Strings_e_Listas.ipynb\" target=\"_parent\"><img src=\"https://colab.research.google.com/assets/colab-badge.svg\" alt=\"Open In Colab\"/></a>"
      ]
    },
    {
      "cell_type": "markdown",
      "source": [
        "# Exercícios Manipulação de Strings"
      ],
      "metadata": {
        "id": "alyrqUJst2B7"
      }
    },
    {
      "cell_type": "code",
      "source": [
        "# 1 - Use o método len para imprimir o comprimento da string.\n",
        "x = \"Hello World\"\n",
        "print(len(x))"
      ],
      "metadata": {
        "id": "VaXue1uMuGtE",
        "colab": {
          "base_uri": "https://localhost:8080/"
        },
        "outputId": "11919883-9eb8-48d1-f248-f472dca70da3"
      },
      "execution_count": null,
      "outputs": [
        {
          "output_type": "stream",
          "name": "stdout",
          "text": [
            "11\n"
          ]
        }
      ]
    },
    {
      "cell_type": "code",
      "source": [
        "# 2 - Obtenha o primeiro caractere da string txt.\n",
        "txt = \"Hello World\"\n",
        "x = txt[0]\n",
        "print(x)"
      ],
      "metadata": {
        "id": "hE23s19XuT9V",
        "colab": {
          "base_uri": "https://localhost:8080/"
        },
        "outputId": "2898e576-df86-4c38-815a-932c2234495f"
      },
      "execution_count": null,
      "outputs": [
        {
          "output_type": "stream",
          "name": "stdout",
          "text": [
            "H\n"
          ]
        }
      ]
    },
    {
      "cell_type": "code",
      "source": [
        "# 3 - Obtenha os caracteres do índice 2 ao índice 4 ( llo).\n",
        "txt = \"Hello World\"\n",
        "x = txt[2:5]\n",
        "print(x)"
      ],
      "metadata": {
        "id": "u5G2G2Icuh_5",
        "colab": {
          "base_uri": "https://localhost:8080/"
        },
        "outputId": "c8c454da-2818-4fb2-c7e2-222e4669a6f0"
      },
      "execution_count": null,
      "outputs": [
        {
          "output_type": "stream",
          "name": "stdout",
          "text": [
            "llo\n"
          ]
        }
      ]
    },
    {
      "cell_type": "code",
      "source": [
        "# 4 - Converta o valor de txt para maiúsculas.\n",
        "txt = \"Hello World\"\n",
        "txt = txt.upper()\n",
        "print(txt)"
      ],
      "metadata": {
        "id": "i_QREABlusUY",
        "colab": {
          "base_uri": "https://localhost:8080/"
        },
        "outputId": "1ef33fd6-ab55-485f-911c-6020e6d302f4"
      },
      "execution_count": null,
      "outputs": [
        {
          "output_type": "stream",
          "name": "stdout",
          "text": [
            "HELLO WORLD\n"
          ]
        }
      ]
    },
    {
      "cell_type": "code",
      "source": [
        "# 5 - Conte quantas vezes aparece a palavra \"de\" na string abaixo\n",
        "txt = \"Eu gosto de vijar, tomar vinho, de estudar estudar programação, de estudar Pyhon\"\n",
        "txt = txt.count('de')\n",
        "print(txt)"
      ],
      "metadata": {
        "id": "nVC1pSwq2PDH",
        "colab": {
          "base_uri": "https://localhost:8080/"
        },
        "outputId": "c50587ab-6326-4d57-e5ca-596ddd375658"
      },
      "execution_count": null,
      "outputs": [
        {
          "output_type": "stream",
          "name": "stdout",
          "text": [
            "3\n"
          ]
        }
      ]
    },
    {
      "cell_type": "code",
      "source": [
        "# 6 - Separe a frase abaixo toda vez que encontrar um vírgula\n",
        "txt = \"Eu gosto de vijar, tomar vinho, de estudar estudar programação, de estudar Pyhon\"\n",
        "txt = txt.split(\",\")\n",
        "print(txt)"
      ],
      "metadata": {
        "id": "tkUBrdQH3OUR",
        "colab": {
          "base_uri": "https://localhost:8080/"
        },
        "outputId": "abb32a58-3035-467e-c8a4-6d823352ee61"
      },
      "execution_count": null,
      "outputs": [
        {
          "output_type": "stream",
          "name": "stdout",
          "text": [
            "['Eu gosto de vijar', ' tomar vinho', ' de estudar estudar programação', ' de estudar Pyhon']\n"
          ]
        }
      ]
    },
    {
      "cell_type": "code",
      "source": [
        "#7 - Peça ao usuário uma frase e substitua todas as ocorrências de espaço por “#”.\n",
        "frase = input(\"diga uma frase\")\n",
        "x = frase.replace(\" \", \"#\")\n",
        "print(x)"
      ],
      "metadata": {
        "id": "WZn4Jk5OtYaV",
        "colab": {
          "base_uri": "https://localhost:8080/"
        },
        "outputId": "1ad0fc61-cc0b-40f7-805e-4e9a0adbe21f"
      },
      "execution_count": null,
      "outputs": [
        {
          "output_type": "stream",
          "name": "stdout",
          "text": [
            "diga uma frasebom dia\n",
            "bom#dia\n"
          ]
        }
      ]
    },
    {
      "cell_type": "code",
      "source": [
        "# 8 - Faça um programa que retorne True se duas strings lidas do teclado são palíndromas mútuas, ou seja, se uma é igual à outra quando lida de traz para frente ou False, se não forem.\n",
        "# Por exemplo: amor e roma\n",
        "palavra1 = input(\"digite a primeira palavra: \")\n",
        "palavra2 = input(\"digite sua segunda palavra: \")\n",
        "if palavra1[::-1] == palavra2:\n",
        "  print(\"suas palavras são palíndromas\")\n",
        "elif (palavra1[::-1] == palavra1):\n",
        "  print(\"A palavra 1 é políndroma com ela mesma\")\n",
        "elif (palavra2[::-1] == palavra2):\n",
        "   print(\"A palavra 2 é políndroma com ela mesma\")\n",
        "else:\n",
        "  print(\"suas palavras não são palíndromas\")"
      ],
      "metadata": {
        "id": "xMzTvD-StfcV",
        "colab": {
          "base_uri": "https://localhost:8080/"
        },
        "outputId": "f81339f2-d7cd-45c5-aa0a-941729ce299e"
      },
      "execution_count": null,
      "outputs": [
        {
          "output_type": "stream",
          "name": "stdout",
          "text": [
            "digite a primeira palavra: ovo\n",
            "digite sua segunda palavra: olho\n",
            "A palavra 1 é políndroma com ela mesma\n"
          ]
        }
      ]
    },
    {
      "cell_type": "code",
      "source": [
        "# 9- Faça um programa que leia o nome do usuário e mostre o nome de traz para frente, utilizando somente letras maiúsculas.\n",
        "nome = input(\"Diga o seu nome: \")\n",
        "txt = nome.upper()\n",
        "txt = txt[::-1]\n",
        "print(txt)"
      ],
      "metadata": {
        "id": "Q-VT1F6StorW",
        "colab": {
          "base_uri": "https://localhost:8080/"
        },
        "outputId": "5645b7b5-34b4-4687-fe2e-ad615763e1c5"
      },
      "execution_count": null,
      "outputs": [
        {
          "output_type": "stream",
          "name": "stdout",
          "text": [
            "Diga o seu nome: pietro\n",
            "ORTEIP\n"
          ]
        }
      ]
    },
    {
      "cell_type": "markdown",
      "source": [
        "# **Exercícios**\n",
        "##Exercício 1: Manipulação de Listas\n",
        "\n",
        "- Defina uma lista com 5 nomes de cidades.\n",
        "- Adicione uma nova cidade ao final da lista.\n",
        "- Remova a segunda cidade da lista.\n",
        "- Imprima a lista resultante."
      ],
      "metadata": {
        "id": "Y_YJtHALyD7j"
      }
    },
    {
      "cell_type": "code",
      "source": [
        "# lista de cidades\n",
        "cidades = [\"Ribeirão Pires\", \"mauá\", \"Santo André\", \"São Bernado\", \"São caetano\"]\n",
        "print(cidades)\n",
        "cidades.append(\"Diadema\")\n",
        "cidades.remove(\"mauá\")\n",
        "print(cidades)"
      ],
      "metadata": {
        "id": "F7PpZmzsyJkj",
        "colab": {
          "base_uri": "https://localhost:8080/"
        },
        "outputId": "7674e8f2-0fb0-402a-9fee-a0e023a3f980"
      },
      "execution_count": null,
      "outputs": [
        {
          "output_type": "stream",
          "name": "stdout",
          "text": [
            "['Ribeirão Pires', 'mauá', 'Santo André', 'São Bernado', 'São caetano']\n",
            "['Ribeirão Pires', 'Santo André', 'São Bernado', 'São caetano', 'Diadema']\n"
          ]
        }
      ]
    },
    {
      "cell_type": "markdown",
      "source": [
        "##Exercício 2: Operações com Tuplas\n",
        "\n",
        "- Defina uma tupla com 4 cores.\n",
        "- Crie uma nova tupla que seja a concatenação da tupla original com outra contendo mais 2 cores.\n",
        "- Imprima a nova tupla."
      ],
      "metadata": {
        "id": "chLTYNQGyUrj"
      }
    },
    {
      "cell_type": "code",
      "source": [
        "# tupla de cores\n",
        "cores = (\"Preto\", \"Branco\", \"Cinza\", \"Vermelho\")\n",
        "nova_cores = cores + (\"Amarelo\",\"Laranja\")\n",
        "print(nova_cores)\n"
      ],
      "metadata": {
        "id": "TdRLrGUoyaHa",
        "colab": {
          "base_uri": "https://localhost:8080/"
        },
        "outputId": "13d20cbc-aa94-459d-c448-36eda6883567"
      },
      "execution_count": null,
      "outputs": [
        {
          "output_type": "stream",
          "name": "stdout",
          "text": [
            "('Preto', 'Branco', 'Cinza', 'Vermelho', 'Amarelo', 'Laranja')\n"
          ]
        }
      ]
    },
    {
      "cell_type": "markdown",
      "source": [
        "##Exercício 3: Dicionários Simples\n",
        "\n",
        "Crie um dicionário para representar um aluno, contendo \"nome\", \"idade\" e \"curso\".\n",
        "- Atualize a idade do aluno.\n",
        "- Adicione uma nova chave \"nota\" com um valor.\n",
        "- Imprima o dicionário atualizado"
      ],
      "metadata": {
        "id": "5eLz2Zvvygej"
      }
    },
    {
      "cell_type": "code",
      "source": [
        "# dicionario de aluno\n",
        "aluno = {\n",
        "    \"nome\": \"Pietro\",\n",
        "    \"idade\": 15,\n",
        "    \"curso\": \"informatica\"\n",
        "}\n",
        "aluno[\"idade\"] = 16\n",
        "aluno[\"nota\"] = 9\n",
        "print(aluno)"
      ],
      "metadata": {
        "id": "g3w1JYkIy1fy",
        "colab": {
          "base_uri": "https://localhost:8080/"
        },
        "outputId": "ce451dce-208c-42aa-b97d-01693ad30d77"
      },
      "execution_count": null,
      "outputs": [
        {
          "output_type": "stream",
          "name": "stdout",
          "text": [
            "{'nome': 'Pietro', 'idade': 16, 'curso': 'informatica', 'nota': 9}\n"
          ]
        }
      ]
    },
    {
      "cell_type": "markdown",
      "source": [
        "##Exercício 4: Listas e Dicionários\n",
        "\n",
        "- Crie uma lista de dicionários, onde cada dicionário representa um produto com as chaves \"nome\" e \"preço\".\n",
        "- Adicione um novo produto à lista.\n",
        "- Atualize o preço do primeiro produto na lista.\n",
        "- Imprima a lista resultante."
      ],
      "metadata": {
        "id": "6IhHbYV3y7ES"
      }
    },
    {
      "cell_type": "code",
      "source": [
        "# lista de dicionarios\n",
        "produto = [\n",
        "    {\"nome\": \"Camisa\", \"preço\": 50.00},\n",
        "    {\"nome\": \"Calça\", \"preço\": 120.00},\n",
        "    {\"nome\": \"Tênis\", \"preço\": 200.00}\n",
        "]\n",
        "produto.append({\"nome\": \"Boné\", \"preço\": 30.00})\n",
        "produto[0][\"preço\"] = 45.00\n",
        "print(produto)"
      ],
      "metadata": {
        "id": "OgnFiZ2qzGAD",
        "colab": {
          "base_uri": "https://localhost:8080/"
        },
        "outputId": "266e556b-7c1c-4c57-8641-7d78132ca3c9"
      },
      "execution_count": null,
      "outputs": [
        {
          "output_type": "stream",
          "name": "stdout",
          "text": [
            "[{'nome': 'Camisa', 'preço': 45.0}, {'nome': 'Calça', 'preço': 120.0}, {'nome': 'Tênis', 'preço': 200.0}, {'nome': 'Boné', 'preço': 30.0}]\n"
          ]
        }
      ]
    },
    {
      "cell_type": "markdown",
      "source": [
        "##Exercício 5: Analisando uma Lista de Tuplas\n",
        "\n",
        "- Crie uma lista de tuplas, onde cada tupla contém um par (nome, idade).\n",
        "- Encontre e imprima o nome da pessoa mais velha.\n",
        "- Encontre e imprima a idade média das pessoas."
      ],
      "metadata": {
        "id": "KtVatd9TzJRC"
      }
    },
    {
      "cell_type": "code",
      "source": [
        "# lista de tupla\n",
        "pessoas = [\n",
        "    (\"zago\", 25),\n",
        "    (\"ygor\", 30),\n",
        "    (\"kayo\", 22)\n",
        "]\n",
        "mais_velho = max(pessoas, key=lambda pessoas: pessoas[1])\n",
        "print(mais_velho)\n",
        "soma_idade = sum(pessoa[1] for pessoa in pessoas)\n",
        "media_idade = soma_idade / len(pessoas)\n",
        "print(f\"média: {media_idade:.2f}\")"
      ],
      "metadata": {
        "id": "yLcULP8ozSHh",
        "colab": {
          "base_uri": "https://localhost:8080/"
        },
        "outputId": "8d060c7d-ead7-4af0-9864-592ca407c673"
      },
      "execution_count": null,
      "outputs": [
        {
          "output_type": "stream",
          "name": "stdout",
          "text": [
            "('ygor', 30)\n",
            "média: 25.67\n"
          ]
        }
      ]
    }
  ]
}